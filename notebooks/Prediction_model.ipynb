{
 "cells": [
  {
   "cell_type": "code",
   "execution_count": 1,
   "id": "4a43cd71",
   "metadata": {},
   "outputs": [],
   "source": [
    "import pandas as pd\n",
    "import numpy as np\n",
    "import matplotlib.pyplot as plt\n",
    "import seaborn as sns\n",
    "from sklearn.model_selection import train_test_split\n",
    "from sklearn.linear_model import LogisticRegression\n",
    "from sklearn.metrics import accuracy_score\n",
    "from sklearn.neighbors import KNeighborsClassifier\n",
    "from sklearn.ensemble import RandomForestClassifier\n",
    "from sklearn.ensemble import VotingClassifier\n",
    "from sklearn.model_selection import GridSearchCV\n",
    "import pickle\n",
    "import warnings\n",
    "warnings.filterwarnings('ignore')\n",
    "np.random.seed(42)"
   ]
  },
  {
   "cell_type": "code",
   "execution_count": 2,
   "id": "7a95987a",
   "metadata": {},
   "outputs": [
    {
     "data": {
      "text/html": [
       "<div>\n",
       "<style scoped>\n",
       "    .dataframe tbody tr th:only-of-type {\n",
       "        vertical-align: middle;\n",
       "    }\n",
       "\n",
       "    .dataframe tbody tr th {\n",
       "        vertical-align: top;\n",
       "    }\n",
       "\n",
       "    .dataframe thead th {\n",
       "        text-align: right;\n",
       "    }\n",
       "</style>\n",
       "<table border=\"1\" class=\"dataframe\">\n",
       "  <thead>\n",
       "    <tr style=\"text-align: right;\">\n",
       "      <th></th>\n",
       "      <th>gender</th>\n",
       "      <th>age</th>\n",
       "      <th>hypertension</th>\n",
       "      <th>heart_disease</th>\n",
       "      <th>ever_married</th>\n",
       "      <th>work_type</th>\n",
       "      <th>Residence_type</th>\n",
       "      <th>avg_glucose_level</th>\n",
       "      <th>bmi</th>\n",
       "      <th>smoking_status</th>\n",
       "      <th>stroke</th>\n",
       "    </tr>\n",
       "  </thead>\n",
       "  <tbody>\n",
       "    <tr>\n",
       "      <th>0</th>\n",
       "      <td>1</td>\n",
       "      <td>67.0</td>\n",
       "      <td>0</td>\n",
       "      <td>1</td>\n",
       "      <td>1</td>\n",
       "      <td>2</td>\n",
       "      <td>1</td>\n",
       "      <td>0.801265</td>\n",
       "      <td>0.388479</td>\n",
       "      <td>1</td>\n",
       "      <td>1</td>\n",
       "    </tr>\n",
       "    <tr>\n",
       "      <th>1</th>\n",
       "      <td>0</td>\n",
       "      <td>61.0</td>\n",
       "      <td>0</td>\n",
       "      <td>0</td>\n",
       "      <td>1</td>\n",
       "      <td>3</td>\n",
       "      <td>0</td>\n",
       "      <td>0.679023</td>\n",
       "      <td>0.262925</td>\n",
       "      <td>2</td>\n",
       "      <td>1</td>\n",
       "    </tr>\n",
       "    <tr>\n",
       "      <th>2</th>\n",
       "      <td>1</td>\n",
       "      <td>80.0</td>\n",
       "      <td>0</td>\n",
       "      <td>1</td>\n",
       "      <td>1</td>\n",
       "      <td>2</td>\n",
       "      <td>0</td>\n",
       "      <td>0.234512</td>\n",
       "      <td>0.327917</td>\n",
       "      <td>2</td>\n",
       "      <td>1</td>\n",
       "    </tr>\n",
       "    <tr>\n",
       "      <th>3</th>\n",
       "      <td>0</td>\n",
       "      <td>49.0</td>\n",
       "      <td>0</td>\n",
       "      <td>0</td>\n",
       "      <td>1</td>\n",
       "      <td>2</td>\n",
       "      <td>1</td>\n",
       "      <td>0.536008</td>\n",
       "      <td>0.355982</td>\n",
       "      <td>3</td>\n",
       "      <td>1</td>\n",
       "    </tr>\n",
       "    <tr>\n",
       "      <th>4</th>\n",
       "      <td>0</td>\n",
       "      <td>79.0</td>\n",
       "      <td>1</td>\n",
       "      <td>0</td>\n",
       "      <td>1</td>\n",
       "      <td>3</td>\n",
       "      <td>0</td>\n",
       "      <td>0.549349</td>\n",
       "      <td>0.202363</td>\n",
       "      <td>2</td>\n",
       "      <td>1</td>\n",
       "    </tr>\n",
       "  </tbody>\n",
       "</table>\n",
       "</div>"
      ],
      "text/plain": [
       "   gender   age  hypertension  heart_disease  ever_married  work_type  \\\n",
       "0       1  67.0             0              1             1          2   \n",
       "1       0  61.0             0              0             1          3   \n",
       "2       1  80.0             0              1             1          2   \n",
       "3       0  49.0             0              0             1          2   \n",
       "4       0  79.0             1              0             1          3   \n",
       "\n",
       "   Residence_type  avg_glucose_level       bmi  smoking_status  stroke  \n",
       "0               1           0.801265  0.388479               1       1  \n",
       "1               0           0.679023  0.262925               2       1  \n",
       "2               0           0.234512  0.327917               2       1  \n",
       "3               1           0.536008  0.355982               3       1  \n",
       "4               0           0.549349  0.202363               2       1  "
      ]
     },
     "execution_count": 2,
     "metadata": {},
     "output_type": "execute_result"
    }
   ],
   "source": [
    "df = pd.read_csv('prepared_dataset.csv', index_col = 0)\n",
    "df.head()"
   ]
  },
  {
   "cell_type": "markdown",
   "id": "be851423",
   "metadata": {},
   "source": [
    "### Разделяем датасет на тренировочную и тестовую выборку в отношении 80/20 соответсвенно"
   ]
  },
  {
   "cell_type": "code",
   "execution_count": 3,
   "id": "609e4510",
   "metadata": {},
   "outputs": [],
   "source": [
    "X = df[['gender', 'age', 'hypertension', 'heart_disease', 'ever_married',\n",
    "       'work_type', 'Residence_type', 'avg_glucose_level', 'bmi',\n",
    "       'smoking_status']]\n",
    "y = df['stroke']\n",
    "\n",
    "X_train, X_test, y_train, y_test = train_test_split(X,y,test_size=0.2,random_state=123,stratify=y)"
   ]
  },
  {
   "cell_type": "markdown",
   "id": "dcab334a",
   "metadata": {},
   "source": [
    "### Проводим подбор гиперпараметров моделей и обучаем итоговый классификатор с лучшими параметрами\n",
    "\n",
    "#### Рандомный лес"
   ]
  },
  {
   "cell_type": "code",
   "execution_count": 4,
   "id": "be4e5fe2",
   "metadata": {},
   "outputs": [
    {
     "data": {
      "text/plain": [
       "{'criterion': 'gini', 'max_depth': 8, 'n_estimators': 50}"
      ]
     },
     "execution_count": 4,
     "metadata": {},
     "output_type": "execute_result"
    }
   ],
   "source": [
    "param_grid = { \n",
    "    'n_estimators': [50, 100, 215, 200],\n",
    "    'max_depth' : [4,5,6,7,8],\n",
    "    'criterion' :['gini', 'entropy']\n",
    "}\n",
    "model = RandomForestClassifier(random_state=42)\n",
    "\n",
    "CV_rfc = GridSearchCV(estimator = model, param_grid = param_grid, cv = 5)\n",
    "\n",
    "CV_rfc.fit(X_train, y_train)\n",
    "CV_rfc.best_params_"
   ]
  },
  {
   "cell_type": "code",
   "execution_count": 5,
   "id": "997903ab",
   "metadata": {},
   "outputs": [
    {
     "name": "stdout",
     "output_type": "stream",
     "text": [
      "Accuracy for Train set Random Forest: 0.8996\n",
      "Accuracy for Test set Random Forest: 0.9026 \n"
     ]
    }
   ],
   "source": [
    "best_model_forest = RandomForestClassifier(random_state=42, n_estimators= 50, max_depth=8, criterion='gini')\n",
    "best_model_forest.fit(X_train, y_train)\n",
    "\n",
    "pred_train_forest = best_model_forest.predict(X_train)\n",
    "pred_test_forest = best_model_forest.predict(X_test)\n",
    "rf_accuracy_train = round(accuracy_score(y_train, pred_train_forest), 4)\n",
    "rf_accuracy_test = round(accuracy_score(y_test, pred_test_forest), 4)\n",
    "\n",
    "print(f\"Accuracy for Train set Random Forest: {rf_accuracy_train}\",\n",
    "      f\"Accuracy for Test set Random Forest: {rf_accuracy_test} \",\n",
    "      sep='\\n')"
   ]
  },
  {
   "cell_type": "markdown",
   "id": "31c8c784",
   "metadata": {},
   "source": [
    "#### Классификатор К-ближайших соседей"
   ]
  },
  {
   "cell_type": "code",
   "execution_count": 6,
   "id": "f441350f",
   "metadata": {},
   "outputs": [
    {
     "data": {
      "text/plain": [
       "{'leaf_size': 1, 'n_neighbors': 5, 'p': 1, 'weights': 'distance'}"
      ]
     },
     "execution_count": 6,
     "metadata": {},
     "output_type": "execute_result"
    }
   ],
   "source": [
    "param_grid = { \n",
    "    'leaf_size': [1, 2, 3, 4, 5, 10, 15, 20],\n",
    "    'n_neighbors' : [5, 15, 20, 25, 30, 40, 50],\n",
    "    'weights' : ['uniform', 'distance'], \n",
    "    'p' : [1, 2]\n",
    "}\n",
    "model =  KNeighborsClassifier()\n",
    "\n",
    "CV_rfc = GridSearchCV(estimator = model, param_grid = param_grid, cv = 5)\n",
    "\n",
    "CV_rfc.fit(X_train, y_train)\n",
    "CV_rfc.best_params_"
   ]
  },
  {
   "cell_type": "code",
   "execution_count": 7,
   "id": "00d318b2",
   "metadata": {},
   "outputs": [
    {
     "name": "stdout",
     "output_type": "stream",
     "text": [
      "Accuracy for Train set KNN: 1.0\n",
      "Accuracy for Test set KNN: 0.953 \n"
     ]
    }
   ],
   "source": [
    "best_model_knn = KNeighborsClassifier(leaf_size = 1, n_neighbors = 5, p = 1, weights = 'distance')\n",
    "best_model_knn.fit(X_train, y_train)\n",
    "\n",
    "pred_train_knn = best_model_knn.predict(X_train)\n",
    "pred_test_knn = best_model_knn.predict(X_test)\n",
    "knn_accuracy_train = round(accuracy_score(y_train, pred_train_knn), 4)\n",
    "knn_accuracy_test = round(accuracy_score(y_test, pred_test_knn), 4)\n",
    "\n",
    "print(f\"Accuracy for Train set KNN: {knn_accuracy_train}\",\n",
    "      f\"Accuracy for Test set KNN: {knn_accuracy_test} \",\n",
    "      sep='\\n')"
   ]
  },
  {
   "cell_type": "markdown",
   "id": "336786ed",
   "metadata": {},
   "source": [
    "#### Логистическая регрессия"
   ]
  },
  {
   "cell_type": "code",
   "execution_count": 8,
   "id": "cb0390f6",
   "metadata": {
    "scrolled": false
   },
   "outputs": [
    {
     "data": {
      "text/plain": [
       "{'penalty': None, 'solver': 'newton-cholesky'}"
      ]
     },
     "execution_count": 8,
     "metadata": {},
     "output_type": "execute_result"
    }
   ],
   "source": [
    "param_grid = { \n",
    "    'penalty': ['l1', 'l2', 'elasticnet', None],\n",
    "    'solver' : ['lbfgs', 'liblinear', 'newton-cg', 'newton-cholesky', 'sag', 'saga'],\n",
    "}\n",
    "model =  LogisticRegression()\n",
    "\n",
    "CV_rfc = GridSearchCV(estimator = model, param_grid = param_grid, cv = 5)\n",
    "\n",
    "CV_rfc.fit(X_train, y_train)\n",
    "CV_rfc.best_params_"
   ]
  },
  {
   "cell_type": "code",
   "execution_count": 9,
   "id": "bcdab93f",
   "metadata": {},
   "outputs": [
    {
     "name": "stdout",
     "output_type": "stream",
     "text": [
      "Accuracy for Train set KNN: 0.7723\n",
      "Accuracy for Test set KNN: 0.7804 \n"
     ]
    }
   ],
   "source": [
    "best_model_log = LogisticRegression(random_state = 42, solver='newton-cholesky', penalty = None)\n",
    "best_model_log.fit(X_train, y_train)\n",
    "\n",
    "pred_train_log = best_model_log.predict(X_train)\n",
    "pred_test_log = best_model_log.predict(X_test)\n",
    "accuracy_lr_train = round(accuracy_score(y_train, pred_train_log), 4)\n",
    "accuracy_lr_test = round(accuracy_score(y_test, pred_test_log), 4)\n",
    "\n",
    "print(f\"Accuracy for Train set KNN: {accuracy_lr_train}\",\n",
    "      f\"Accuracy for Test set KNN: {accuracy_lr_test} \",\n",
    "      sep='\\n')"
   ]
  },
  {
   "cell_type": "markdown",
   "id": "0b1cd696",
   "metadata": {},
   "source": [
    "#### Ансамбль моделей классификации"
   ]
  },
  {
   "cell_type": "code",
   "execution_count": 10,
   "id": "3000b504",
   "metadata": {},
   "outputs": [
    {
     "name": "stdout",
     "output_type": "stream",
     "text": [
      "Accuracy for Train set FinalStack: 1.0\n",
      "Accuracy for Test set FinalStack: 0.9480712166172107 \n"
     ]
    }
   ],
   "source": [
    "estimators = [('lg', best_model_log),\n",
    "              ('knn', best_model_knn), \n",
    "              ('tree', best_model_forest)]\n",
    "final_estimator = LogisticRegression()\n",
    "FinalStack = VotingClassifier(estimators = estimators, voting = 'soft', weights = [1, 3, 1])\n",
    "FinalStack.fit(X_train, y_train)\n",
    "\n",
    "FinalStack_train = FinalStack.predict(X_train)\n",
    "FinalStack_accuracy_train = accuracy_score(y_train, FinalStack_train)\n",
    "\n",
    "FinalStack_y_pred_test = FinalStack.predict(X_test)\n",
    "FinalStack_accuracy_test = accuracy_score(y_test, FinalStack_y_pred_test)\n",
    "\n",
    "print(f\"Accuracy for Train set FinalStack: {FinalStack_accuracy_train}\",\n",
    "      f\"Accuracy for Test set FinalStack: {FinalStack_accuracy_test} \",\n",
    "      sep='\\n')"
   ]
  },
  {
   "cell_type": "code",
   "execution_count": 11,
   "id": "e233ccd0",
   "metadata": {},
   "outputs": [],
   "source": [
    "models = [('Logistic Regression', accuracy_lr_train, accuracy_lr_test),\n",
    "          ('K-Nearest Neighbors', knn_accuracy_train, knn_accuracy_test),\n",
    "          ('Random Forest Tree', rf_accuracy_train, rf_accuracy_test),\n",
    "          ('Voting Classifier', FinalStack_accuracy_train, FinalStack_accuracy_test)]\n",
    "\n",
    "predict = pd.DataFrame(data = models, columns=['Model',  'Accuracy(training)', 'Accuracy(test)'])\n",
    "predict = predict.sort_values(by = 'Accuracy(test)')"
   ]
  },
  {
   "cell_type": "markdown",
   "id": "5308a7ff",
   "metadata": {},
   "source": [
    "#### Проводим сравнение моделей"
   ]
  },
  {
   "cell_type": "code",
   "execution_count": 12,
   "id": "6e5aef14",
   "metadata": {},
   "outputs": [
    {
     "data": {
      "image/png": "[encoded data removed]",
      "text/plain": [
       "<Figure size 1400x1000 with 2 Axes>"
      ]
     },
     "metadata": {},
     "output_type": "display_data"
    }
   ],
   "source": [
    "f, axes = plt.subplots(2,1, figsize=(14,10))\n",
    "predict.sort_values(by = ['Accuracy(training)'], ascending = False, inplace = True)\n",
    "sns.barplot(x = 'Accuracy(training)', y = 'Model', data = predict, palette='Blues_d', ax = axes[0])\n",
    "axes[0].set_xlabel('Accuracy (Training)', size=16)\n",
    "axes[0].set_ylabel('Model', size=16)\n",
    "axes[0].set_xlim(0,1.0)\n",
    "axes[0].set_xticks(np.arange(0, 1.1, 0.1))\n",
    "predict.sort_values(by=['Accuracy(test)'], ascending = False, inplace = True)\n",
    "sns.barplot(x = 'Accuracy(test)', y = 'Model', data = predict, palette = 'Reds_d', ax = axes[1])\n",
    "axes[1].set_xlabel('Accuracy (Test)', size=16)\n",
    "axes[1].set_ylabel('Model', size=16)\n",
    "axes[1].set_xlim(0,1.0)\n",
    "axes[1].set_xticks(np.arange(0, 1.1, 0.1))\n",
    "plt.show()"
   ]
  },
  {
   "cell_type": "markdown",
   "id": "1203f2aa",
   "metadata": {},
   "source": [
    "Лучшая модель - К-ближайших соседей, ее мы и будем использовать для совершения предсказаний в нашем сервисе. Сохраним ее для дальнейших исследований."
   ]
  },
  {
   "cell_type": "code",
   "execution_count": 13,
   "id": "bb2013f4",
   "metadata": {},
   "outputs": [],
   "source": [
    "pkl_filename = \"prediction_model.pkl\" \n",
    "with open(pkl_filename, 'wb') as file: \n",
    "     pickle.dump(best_model_knn, file)"
   ]
  }
 ],
 "metadata": {
  "kernelspec": {
   "display_name": "Python 3 (ipykernel)",
   "language": "python",
   "name": "python3"
  },
  "language_info": {
   "codemirror_mode": {
    "name": "ipython",
    "version": 3
   },
   "file_extension": ".py",
   "mimetype": "text/x-python",
   "name": "python",
   "nbconvert_exporter": "python",
   "pygments_lexer": "ipython3",
   "version": "3.11.4"
  }
 },
 "nbformat": 4,
 "nbformat_minor": 5
}
